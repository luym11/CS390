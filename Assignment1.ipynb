{
 "cells": [
  {
   "cell_type": "markdown",
   "metadata": {},
   "source": [
    "# Assignment 1 -- Yimeng LU -- yimeng.lu@kaust.edu.sa -- Julia 0.6.0"
   ]
  },
  {
   "cell_type": "markdown",
   "metadata": {},
   "source": [
    "## Problem 1\n",
    "Write function B = ER(n, p). "
   ]
  },
  {
   "cell_type": "code",
   "execution_count": 1,
   "metadata": {},
   "outputs": [
    {
     "data": {
      "text/plain": [
       "ER (generic function with 1 method)"
      ]
     },
     "execution_count": 1,
     "metadata": {},
     "output_type": "execute_result"
    }
   ],
   "source": [
    "function ER(n, p)\n",
    "    B = zeros(n,n)\n",
    "    for i=1:n\n",
    "        for j=1:i-1\n",
    "            if rand()<p\n",
    "                B[i,j] = 1\n",
    "                B[j,i] = 1\n",
    "            end\n",
    "        end\n",
    "    end\n",
    "    return B\n",
    "end"
   ]
  },
  {
   "cell_type": "markdown",
   "metadata": {},
   "source": [
    "## Problem 2\n",
    "Union of two adjacency matrices. "
   ]
  },
  {
   "cell_type": "code",
   "execution_count": 2,
   "metadata": {},
   "outputs": [
    {
     "data": {
      "text/plain": [
       "Union (generic function with 1 method)"
      ]
     },
     "execution_count": 2,
     "metadata": {},
     "output_type": "execute_result"
    }
   ],
   "source": [
    "function Union(B1, B2)\n",
    "    B = B1 + B2; \n",
    "    B[B.>0]=1\n",
    "    return B\n",
    "end"
   ]
  },
  {
   "cell_type": "markdown",
   "metadata": {},
   "source": [
    "## Problem 3\n",
    "Adjacency matrix of cycle graph"
   ]
  },
  {
   "cell_type": "code",
   "execution_count": 3,
   "metadata": {},
   "outputs": [
    {
     "data": {
      "text/plain": [
       "Cycle (generic function with 1 method)"
      ]
     },
     "execution_count": 3,
     "metadata": {},
     "output_type": "execute_result"
    }
   ],
   "source": [
    "function Cycle(n)\n",
    "    dv = zeros(n)\n",
    "    ev = ones(n-1)\n",
    "    C =zeros(n,n)\n",
    "    for i=1:n-1\n",
    "        for j=i+1\n",
    "            C[i,j]=1\n",
    "        end\n",
    "    end\n",
    "    C[1,n]=1\n",
    "    for i=1:n\n",
    "        for j=1:i\n",
    "            C[i,j] = C[j,i]\n",
    "        end\n",
    "    end\n",
    "    return C\n",
    "end"
   ]
  },
  {
   "cell_type": "markdown",
   "metadata": {},
   "source": [
    "## Problem 4\n",
    "Write function AfromB(B) to represent constraints $x^i=x^j$ whenever $B[i,j]==1$ "
   ]
  },
  {
   "cell_type": "code",
   "execution_count": 4,
   "metadata": {},
   "outputs": [
    {
     "data": {
      "text/plain": [
       "AfromB (generic function with 1 method)"
      ]
     },
     "execution_count": 4,
     "metadata": {},
     "output_type": "execute_result"
    }
   ],
   "source": [
    "function AfromB(B)\n",
    "    size_E = convert(Int64, size(B[B.>0], 1)/2)\n",
    "    n = size(B,2)\n",
    "    A = zeros(size_E, n)\n",
    "    edge_counter = 0\n",
    "    for i=1:n\n",
    "        for j=1:i-1\n",
    "            if B[i,j] > 0.1\n",
    "                edge_counter = edge_counter + 1\n",
    "                A[edge_counter,i]=1\n",
    "                A[edge_counter,j]=-1\n",
    "            end\n",
    "        end\n",
    "    end\n",
    "    return A\n",
    "end"
   ]
  },
  {
   "cell_type": "markdown",
   "metadata": {},
   "source": [
    "## Problem 5"
   ]
  },
  {
   "cell_type": "markdown",
   "metadata": {},
   "source": [
    "### Problem 5.a\n",
    "Write functin rate(A) to indicate the rate of the randomized Kaczmarz method for $\\mathbf{A}x=b$"
   ]
  },
  {
   "cell_type": "code",
   "execution_count": 5,
   "metadata": {},
   "outputs": [
    {
     "data": {
      "text/plain": [
       "rate (generic function with 1 method)"
      ]
     },
     "execution_count": 5,
     "metadata": {},
     "output_type": "execute_result"
    }
   ],
   "source": [
    "function rate(A)\n",
    "    # λ_min(A'*A)\n",
    "    eigvals_ATA = sort(eigvals(A'*A), rev=true)\n",
    "    λ_min=0\n",
    "    for i=size(eigvals_ATA,1):-1:1\n",
    "        if i==1 || eigvals_ATA[i]>0.0001\n",
    "            λ_min = eigvals_ATA[i]\n",
    "            break\n",
    "        end\n",
    "    end\n",
    "    # ||A||_F^2, either of these two methods work\n",
    "    Frob_A = vecnorm(A,2) # need to be squared before pulging in to ρ's expression\n",
    "    Frob_A2 = sum(eigvals_ATA)\n",
    "    # Final compute\n",
    "    ρ = 1 - λ_min/Frob_A2\n",
    "    return ρ\n",
    "end"
   ]
  },
  {
   "cell_type": "markdown",
   "metadata": {},
   "source": [
    "### Problem 5.b\n",
    "Do experiments with RK methods. From theoretical analysis in part c, we conclude that $\\frac{1}{1-\\rho}$ represents\n",
    "$$\\frac{2\\vert E \\vert}{connectivity}$$\n",
    "for given n. Thus we will design an experiment whose connectivity is different from c, where graph is connected. We'll do this by constrcting two smaller matrices using $G(n/2,2p) \\cap C(n/2)$ and combine them diagnaly. Then add only one edges to connect them together. Thus they'll have same edge numbers but different connectivity. "
   ]
  },
  {
   "cell_type": "code",
   "execution_count": 58,
   "metadata": {},
   "outputs": [
    {
     "name": "stderr",
     "output_type": "stream",
     "text": [
      "\u001b[1m\u001b[33mWARNING: \u001b[39m\u001b[22m\u001b[33mround{T}(::Type{T}, x::AbstractArray) is deprecated, use round.(T, x) instead.\u001b[39m\n",
      "Stacktrace:\n",
      " [1] \u001b[1mdepwarn\u001b[22m\u001b[22m\u001b[1m(\u001b[22m\u001b[22m::String, ::Symbol\u001b[1m)\u001b[22m\u001b[22m at \u001b[1m./deprecated.jl:70\u001b[22m\u001b[22m\n",
      " [2] \u001b[1mround\u001b[22m\u001b[22m\u001b[1m(\u001b[22m\u001b[22m::Type{Int64}, ::BitArray{2}\u001b[1m)\u001b[22m\u001b[22m at \u001b[1m./deprecated.jl:57\u001b[22m\u001b[22m\n",
      " [3] \u001b[1mER\u001b[22m\u001b[22m\u001b[1m(\u001b[22m\u001b[22m::Int64, ::Float64\u001b[1m)\u001b[22m\u001b[22m at \u001b[1m./In[1]:2\u001b[22m\u001b[22m\n",
      " [4] \u001b[1mmacro expansion\u001b[22m\u001b[22m at \u001b[1m./In[58]:8\u001b[22m\u001b[22m [inlined]\n",
      " [5] \u001b[1manonymous\u001b[22m\u001b[22m at \u001b[1m./<missing>:?\u001b[22m\u001b[22m\n",
      " [6] \u001b[1minclude_string\u001b[22m\u001b[22m\u001b[1m(\u001b[22m\u001b[22m::String, ::String\u001b[1m)\u001b[22m\u001b[22m at \u001b[1m./loading.jl:515\u001b[22m\u001b[22m\n",
      " [7] \u001b[1minclude_string\u001b[22m\u001b[22m\u001b[1m(\u001b[22m\u001b[22m::Module, ::String, ::String\u001b[1m)\u001b[22m\u001b[22m at \u001b[1m/opt/julia_packages/.julia/v0.6/Compat/src/Compat.jl:464\u001b[22m\u001b[22m\n",
      " [8] \u001b[1mexecute_request\u001b[22m\u001b[22m\u001b[1m(\u001b[22m\u001b[22m::ZMQ.Socket, ::IJulia.Msg\u001b[1m)\u001b[22m\u001b[22m at \u001b[1m/opt/julia_packages/.julia/v0.6/IJulia/src/execute_request.jl:154\u001b[22m\u001b[22m\n",
      " [9] \u001b[1meventloop\u001b[22m\u001b[22m\u001b[1m(\u001b[22m\u001b[22m::ZMQ.Socket\u001b[1m)\u001b[22m\u001b[22m at \u001b[1m/opt/julia_packages/.julia/v0.6/IJulia/src/eventloop.jl:8\u001b[22m\u001b[22m\n",
      " [10] \u001b[1m(::IJulia.##14#17)\u001b[22m\u001b[22m\u001b[1m(\u001b[22m\u001b[22m\u001b[1m)\u001b[22m\u001b[22m at \u001b[1m./task.jl:335\u001b[22m\u001b[22m\n",
      "while loading In[58], in expression starting on line 6\n"
     ]
    }
   ],
   "source": [
    "# Bridged graph\n",
    "\n",
    "n = 100\n",
    "halfn = 50\n",
    "_ps=Float64[]\n",
    "for i=1:100\n",
    "    p=i/100\n",
    "    B1 = Union(ER(halfn,2*p), Cycle(halfn))\n",
    "    B4 = Union(ER(halfn,2*p), Cycle(halfn))\n",
    "    B3 = zeros(halfn, halfn)\n",
    "    B3[halfn,1] = 1\n",
    "    B2 = B3'\n",
    "    #B3[halfn,1]=1\n",
    "    #B2[1,halfn]=1\n",
    "    _B = [B1 B2;B3 B4];\n",
    "    _A = AfromB(_B)\n",
    "    ρ=rate(_A)\n",
    "    push!(_ps, 1/(1-ρ))\n",
    "end"
   ]
  },
  {
   "cell_type": "code",
   "execution_count": 59,
   "metadata": {},
   "outputs": [
    {
     "data": {
      "image/png": "[encoded data removed]",
      "text/plain": [
       "PyPlot.Figure(PyObject <matplotlib.figure.Figure object at 0x7f927845b850>)"
      ]
     },
     "metadata": {},
     "output_type": "display_data"
    },
    {
     "data": {
      "text/plain": [
       "PyObject <function show at 0x7f92808dbb90>"
      ]
     },
     "execution_count": 59,
     "metadata": {},
     "output_type": "execute_result"
    }
   ],
   "source": [
    "indices=linspace(1,length(_ps[1:halfn]),length(_ps[1:halfn]))\n",
    "PlotRhos(indices, _ps[1:halfn])\n",
    "PlotRhos(indices, ps[1:halfn])"
   ]
  },
  {
   "cell_type": "markdown",
   "metadata": {},
   "source": [
    "From this experiment we can see this quantity indeed describes connectivity. And also indicates the rate of convergence. "
   ]
  },
  {
   "cell_type": "markdown",
   "metadata": {},
   "source": [
    "### Problem 5.c"
   ]
  },
  {
   "cell_type": "code",
   "execution_count": 8,
   "metadata": {
    "collapsed": true
   },
   "outputs": [
    {
     "name": "stderr",
     "output_type": "stream",
     "text": [
      "\u001b[1m\u001b[33mWARNING: \u001b[39m\u001b[22m\u001b[33mround{T}(::Type{T}, x::AbstractArray) is deprecated, use round.(T, x) instead.\u001b[39m\n",
      "Stacktrace:\n",
      " [1] \u001b[1mdepwarn\u001b[22m\u001b[22m\u001b[1m(\u001b[22m\u001b[22m::String, ::Symbol\u001b[1m)\u001b[22m\u001b[22m at \u001b[1m./deprecated.jl:70\u001b[22m\u001b[22m\n",
      " [2] \u001b[1mround\u001b[22m\u001b[22m\u001b[1m(\u001b[22m\u001b[22m::Type{Int64}, ::BitArray{2}\u001b[1m)\u001b[22m\u001b[22m at \u001b[1m./deprecated.jl:57\u001b[22m\u001b[22m\n",
      " [3] \u001b[1mER\u001b[22m\u001b[22m\u001b[1m(\u001b[22m\u001b[22m::Int64, ::Float64\u001b[1m)\u001b[22m\u001b[22m at \u001b[1m./In[1]:2\u001b[22m\u001b[22m\n",
      " [4] \u001b[1mmacro expansion\u001b[22m\u001b[22m at \u001b[1m./In[8]:5\u001b[22m\u001b[22m [inlined]\n",
      " [5] \u001b[1manonymous\u001b[22m\u001b[22m at \u001b[1m./<missing>:?\u001b[22m\u001b[22m\n",
      " [6] \u001b[1minclude_string\u001b[22m\u001b[22m\u001b[1m(\u001b[22m\u001b[22m::String, ::String\u001b[1m)\u001b[22m\u001b[22m at \u001b[1m./loading.jl:515\u001b[22m\u001b[22m\n",
      " [7] \u001b[1minclude_string\u001b[22m\u001b[22m\u001b[1m(\u001b[22m\u001b[22m::Module, ::String, ::String\u001b[1m)\u001b[22m\u001b[22m at \u001b[1m/opt/julia_packages/.julia/v0.6/Compat/src/Compat.jl:464\u001b[22m\u001b[22m\n",
      " [8] \u001b[1mexecute_request\u001b[22m\u001b[22m\u001b[1m(\u001b[22m\u001b[22m::ZMQ.Socket, ::IJulia.Msg\u001b[1m)\u001b[22m\u001b[22m at \u001b[1m/opt/julia_packages/.julia/v0.6/IJulia/src/execute_request.jl:154\u001b[22m\u001b[22m\n",
      " [9] \u001b[1meventloop\u001b[22m\u001b[22m\u001b[1m(\u001b[22m\u001b[22m::ZMQ.Socket\u001b[1m)\u001b[22m\u001b[22m at \u001b[1m/opt/julia_packages/.julia/v0.6/IJulia/src/eventloop.jl:8\u001b[22m\u001b[22m\n",
      " [10] \u001b[1m(::IJulia.##14#17)\u001b[22m\u001b[22m\u001b[1m(\u001b[22m\u001b[22m\u001b[1m)\u001b[22m\u001b[22m at \u001b[1m./task.jl:335\u001b[22m\u001b[22m\n",
      "while loading In[8], in expression starting on line 3\n"
     ]
    },
    {
     "name": "stdout",
     "output_type": "stream",
     "text": [
      "1482.5291018497223\n",
      "855.1536155196628\n",
      "532.2610241466649\n",
      "664.880238658173\n",
      "465.9835867623064\n",
      "340.55620345858574\n",
      "371.1840987631274\n",
      "568.2214625937194\n",
      "251.18981643266667\n",
      "258.44552106319327\n",
      "229.51501160398612\n",
      "214.097648838585\n",
      "269.5941739381658\n",
      "210.47534186604736\n",
      "237.47459633244367\n",
      "207.688723605672\n",
      "240.25966665193087\n",
      "220.3802980190278\n",
      "188.88678562109263\n",
      "204.9601848859154\n",
      "205.23261477822328\n",
      "183.48684508199167\n",
      "181.39249827968501\n",
      "171.76991484748012\n",
      "173.944706837191\n",
      "198.9903969581518\n",
      "164.61522046228043\n",
      "194.74412323916533\n",
      "165.24357400518684\n",
      "161.4872885173158\n",
      "162.95731940771083\n",
      "175.41394669102723\n",
      "167.7368577528748\n",
      "163.2813434234833\n",
      "182.1619456608811\n",
      "164.05331211404737\n",
      "142.10467664007822\n",
      "148.9607946339479\n",
      "160.89244781941696\n",
      "154.17203727119028\n",
      "168.80501889586816\n",
      "146.4958614323461\n",
      "142.9473020365325\n",
      "148.03109701694476\n",
      "140.6074630055547\n",
      "154.79480739976304\n",
      "147.08033279804326\n",
      "149.80725176488272\n",
      "155.1812040460003\n",
      "141.1356042760364\n",
      "134.77594646077642\n",
      "150.4673814305836\n",
      "132.8794070705922\n",
      "135.01408463620083\n",
      "131.01442112848457\n",
      "127.85977321358436\n",
      "133.4036029666268\n",
      "131.8252519479765\n",
      "134.38465416465243\n",
      "130.4673042853289\n",
      "131.77609253587084\n",
      "122.6943121341184\n",
      "128.23831278947105\n",
      "122.32408588113104\n",
      "131.46245306902355\n",
      "131.43649618030304\n",
      "126.83216370975326\n",
      "123.75741830600502\n",
      "122.81441419639145\n",
      "123.40964677764485\n",
      "120.11330632075554\n",
      "122.086783976617\n",
      "122.90732444630822\n",
      "121.6316436620878\n",
      "121.9943739022659\n",
      "126.07895527215696\n",
      "118.85250343206441\n",
      "116.62588194986962\n",
      "116.091388608062\n",
      "122.5719828062125\n",
      "117.57246879011015\n",
      "116.33355767686935\n",
      "115.23595514030376\n",
      "120.46868820188821\n",
      "113.41976988581533\n",
      "117.76148604268734\n",
      "112.88721554359215\n",
      "113.90672357150923\n",
      "112.92394582830666\n",
      "111.69716938718504\n",
      "110.81461167980082\n",
      "108.84717635763948\n",
      "110.7853059222729\n",
      "108.56240165809041\n",
      "107.59052201077645\n",
      "106.93302245561117\n",
      "106.14932688396071\n",
      "105.20745926636123\n",
      "103.36875548619159\n",
      "99.00000000000045\n"
     ]
    }
   ],
   "source": [
    "N=100\n",
    "ps=Float64[]\n",
    "for i=1:100\n",
    "    p=i/100\n",
    "    A = AfromB(Union(ER(N,p), Cycle(N)))\n",
    "    ρ=rate(A)\n",
    "    push!(ps, 1/(1-ρ))\n",
    "    println(1/(1-ρ))\n",
    "end"
   ]
  },
  {
   "cell_type": "code",
   "execution_count": 49,
   "metadata": {},
   "outputs": [
    {
     "data": {
      "text/plain": [
       "PlotRhos (generic function with 1 method)"
      ]
     },
     "execution_count": 49,
     "metadata": {},
     "output_type": "execute_result"
    }
   ],
   "source": [
    "using PyPlot\n",
    "function PlotRhos(xs, fv)\n",
    "    \n",
    "    ax = axes()\n",
    "    plt[:plot](xs, fv, \"-\", linewidth=3.0, label=L\"n=100\")\n",
    "    legend(loc=\"upper right\")\n",
    "    ylabel(\"1/(1-rho)\", fontsize=20)\n",
    "    xlabel(\"p\")\n",
    "    ax[:set_yscale](\"log\")\n",
    "    plt[:show]\n",
    "    \n",
    "end"
   ]
  },
  {
   "cell_type": "code",
   "execution_count": 10,
   "metadata": {},
   "outputs": [
    {
     "data": {
      "image/png": "[encoded data removed]",
      "text/plain": [
       "PyPlot.Figure(PyObject <matplotlib.figure.Figure object at 0x7f9280647350>)"
      ]
     },
     "metadata": {},
     "output_type": "display_data"
    },
    {
     "data": {
      "text/plain": [
       "PyObject <function show at 0x7f92808dbb90>"
      ]
     },
     "execution_count": 10,
     "metadata": {},
     "output_type": "execute_result"
    }
   ],
   "source": [
    "indices=linspace(1,length(ps),length(ps))\n",
    "PlotRhos(indices, ps)"
   ]
  },
  {
   "cell_type": "markdown",
   "metadata": {
    "collapsed": true
   },
   "source": [
    "By trying on different circumstances: \n",
    "- N=100 or 200, p goes from 0 to 1 by stepsize 1/100 or 1/200\n",
    "\n",
    "In any case, the very last $\\frac{1}{1-\\rho}$ has a value that is pretty near to N-1. In this case($p=1$), $\\mathbf{B}$ is $G(n,1)$, $\\mathbf{A}$ is describing a graph that each pair of vertices has an edge between them.\n",
    "\n",
    "We can see $$\\frac{1}{1-\\rho} = \\frac{\\Vert A \\Vert_F^2}{\\lambda_{\\min}^+(A^TA)}$$\n",
    "And as reviewing the way we generate matrix $\\mathbf{A}$, we can see that $\\mathbf{A^TA} = -\\mathbf{B} + diag(\\mathbf{B}*\\mathbb{1})$, or we can say it's the degree matrix $\\mathbf{D}$ minus adjacency matrix $\\mathbf{A_{adj}}$, i.e., the Laplacian matrix. For our special setup(the graph represented by $\\mathbf{B}$ is connected), $\\lambda_{\\min}^+(A^TA)$ is the second smallest eigenvalue of $A^TA$(smallest eigenvalue is always 0 associated with eigenvector $\\mathbb{1}$). It represents the algebraic connectivity(or Fiedler value) of the graph, which is used in spectral graph partitioning. $\\lambda_{\\min}^+(A^TA)$ is a lower bound of $$\\frac{\\vert E(G) \\cap (U\\times W )\\vert}{\\vert U \\vert \\vert W \\vert}*n$$\n",
    "where n is the number of nodes in graph G, E is edge set, U and W are disjoint partitions of vertice set V. So this quantity is indicating the conectivity of the graph when we have a fixed n. \n",
    "\n",
    "As $\\Vert A \\Vert_F^2 = 2\\vert E \\vert$, $\\frac{1}{1-\\rho}$ is $$\\frac{2\\vert E \\vert}{Lower Bound Of Connectivity}$$\n",
    "\n",
    "As a special case, when $p=1$ which means it's a complete graph $$\\frac{\\vert E(G) \\cap (U\\times W )\\vert}{\\vert U \\vert \\vert W \\vert}=1$$ and in this case $\\mathbb{E}\\{\\vert E \\vert\\} = \\frac{p}{2}n(n-1)$. Combining these together we get $n-1$, which is shown by the experiments. \n"
   ]
  },
  {
   "cell_type": "markdown",
   "metadata": {},
   "source": [
    "## Problem 6"
   ]
  },
  {
   "cell_type": "markdown",
   "metadata": {},
   "source": [
    "### Problem 6.a\n",
    "n = 100, c=(1,2,3,...,100). Find fastest $\\mathbf{A}$ for computing the average of $c_i$ via RK for accuracy $\\Vert x-c\\Vert \\leq 10^{-2}$"
   ]
  },
  {
   "cell_type": "code",
   "execution_count": 8,
   "metadata": {},
   "outputs": [],
   "source": [
    "n=100\n",
    "m=100\n",
    "## 68.6s\n",
    "# B=Cycle(100)\n",
    "# A=AfromB(B)\n",
    "\n",
    "c = 1:n\n",
    "b = zeros(n)\n",
    "x_star = ones(n)*sum(c)/n;"
   ]
  },
  {
   "cell_type": "code",
   "execution_count": 6,
   "metadata": {
    "scrolled": false
   },
   "outputs": [
    {
     "data": {
      "text/plain": [
       "Kac_sampling (generic function with 1 method)"
      ]
     },
     "execution_count": 6,
     "metadata": {},
     "output_type": "execute_result"
    }
   ],
   "source": [
    "using StatsBase\n",
    "    function Kac_sampling(w) # for non-uniform sampling, looks into the function \"sample\" in the package c\n",
    "         \n",
    "        w=w./sum(w)\n",
    "        return sample(Weights(w))\n",
    "\n",
    "    end"
   ]
  },
  {
   "cell_type": "code",
   "execution_count": 7,
   "metadata": {},
   "outputs": [
    {
     "data": {
      "text/plain": [
       "RandomKaczmarzSolveWithAccuracy (generic function with 1 method)"
      ]
     },
     "execution_count": 7,
     "metadata": {},
     "output_type": "execute_result"
    }
   ],
   "source": [
    "function RandomKaczmarzSolveWithAccuracy(x, A, b, T, skip, x_star)\n",
    "    \n",
    "    (m,n) = size(A)\n",
    "    norms_A=zeros(size(A)[1])\n",
    "    #preprocessing\n",
    "    for i=1:size(A)[1]\n",
    "        norms_A[i] = norm(A[i,:]) \n",
    "    end\n",
    "    \n",
    "    w=zeros(size(A)[1])\n",
    "    for i=1:size(A)[1]\n",
    "        w[i]=norms_A[i] \n",
    "    end \n",
    "    \n",
    "    tic()\n",
    "    time = 0\n",
    "    t_terminate = 0\n",
    "    for t=0:T\n",
    "        tic()\n",
    "        coord=Kac_sampling(w)\n",
    "        x = x - A[coord,:].*(A[coord,:]'*x - b[coord])/(A[coord,:]'*A[coord,:]) \n",
    "        time = time + toq()\n",
    "        if sqrt((x-x_star)'*(x-x_star))[1] < 0.01\n",
    "            t_terminate = t\n",
    "            # println(\"Satisfy criterion at %d iteration\", t_terminate)\n",
    "            break\n",
    "        end\n",
    "    end\n",
    "        \n",
    "    println(\"Time = \", time, \", t_terminate = \", t_terminate)\n",
    "    return time, t_terminate\n",
    "    \n",
    "end"
   ]
  },
  {
   "cell_type": "code",
   "execution_count": 11,
   "metadata": {},
   "outputs": [
    {
     "data": {
      "text/plain": [
       "PlotResults (generic function with 1 method)"
      ]
     },
     "execution_count": 11,
     "metadata": {},
     "output_type": "execute_result"
    }
   ],
   "source": [
    "using PyPlot\n",
    "\n",
    "function PlotResults(B, x_star, xs, fv)\n",
    "    \n",
    "    ax = axes()\n",
    "    plt[:plot](skip*(0:length(fv)-1), fv, \"-\", linewidth=3.0, label=L\"||Ax - b||\")\n",
    "    plt[:plot](skip*(0:length(fv)-1), [sqrt((xs[:,i]-x_star)'*B*(xs[:,i]-x_star)) for i=1:length(fv)] , \":\", linewidth=3.0, label=L\"||x - x^*||_B\")\n",
    "    legend(loc=\"upper right\")\n",
    "    ylabel(\"error\", fontsize=20)\n",
    "    xlabel(\"iterations\")\n",
    "    ax[:set_yscale](\"log\")\n",
    "    plt[:show]\n",
    "    \n",
    "end"
   ]
  },
  {
   "cell_type": "code",
   "execution_count": 12,
   "metadata": {},
   "outputs": [
    {
     "data": {
      "text/plain": [
       "33333.0"
      ]
     },
     "execution_count": 12,
     "metadata": {},
     "output_type": "execute_result"
    }
   ],
   "source": [
    "x = c # initial iterate\n",
    "\n",
    "\n",
    "Binv = eye(n) # matrix B is one of the 2 parameters of the method\n",
    "\n",
    "T = 1000*m       # no of iterations \n",
    "skip = round(T/30)    # we shall remember x each \"skip\" number of iterations\n",
    "\n",
    "# Now we solve the problem\n",
    "# xs, fv, t_terminate = RandomKaczmarzSolve(x, A, b, T, skip, x_star)\n",
    "\n",
    "# Let us now plot the results\n",
    "\n",
    "# PlotResults(eye(n), x_star, xs[:,1:round(Int,t_terminate/skip+1)], fv[1:round(Int,t_terminate/skip+1)])"
   ]
  },
  {
   "cell_type": "code",
   "execution_count": 45,
   "metadata": {
    "scrolled": true
   },
   "outputs": [
    {
     "name": "stdout",
     "output_type": "stream",
     "text": [
      "p is 0.0, rate is 0.9999802672842827\n",
      "Time = 2.5223693550000332, t_terminate = 508710\n",
      "p is 0.01, rate is 0.9991162490780063\n",
      "Time = 0.08764853000000021, t_terminate = 10204\n",
      "p is 0.02, rate is 0.9984746716355186\n",
      "Time = 0.05223721700000002, t_terminate = 6805\n",
      "p is 0.03, rate is 0.9981536532811618\n",
      "Time = 0.038472014000000096, t_terminate = 4680\n",
      "p is 0.04, rate is 0.9978068739790036\n",
      "Time = 0.03646193399999994, t_terminate = 4309\n",
      "p is 0.05, rate is 0.9976307877036051\n",
      "Time = 0.06753228600000018, t_terminate = 4088\n",
      "p is 0.06, rate is 0.9972260124632784\n",
      "Time = 0.17944401899999982, t_terminate = 3221\n",
      "p is 0.07, rate is 0.9973236241069896\n",
      "Time = 0.04333571800000013, t_terminate = 2901\n",
      "p is 0.08, rate is 0.9967601703485616\n",
      "Time = 0.024478220999999967, t_terminate = 2863\n",
      "p is 0.09, rate is 0.9959800327396683\n",
      "Time = 0.021053363000000026, t_terminate = 2343\n",
      "p is 0.1, rate is 0.9962276040984566\n",
      "Time = 0.07761567099999997, t_terminate = 2654\n",
      "p is 0.11, rate is 0.9961773909654705\n",
      "Time = 0.04645733400000007, t_terminate = 2697\n",
      "p is 0.12, rate is 0.9966904066495881\n",
      "Time = 0.057447907999999964, t_terminate = 2466\n",
      "p is 0.13, rate is 0.9962682894389088\n",
      "Time = 0.03641470500000009, t_terminate = 2740\n",
      "p is 0.14, rate is 0.995313465559271\n",
      "Time = 0.057352398999999984, t_terminate = 2214\n",
      "p is 0.15, rate is 0.9959448626422442\n",
      "Time = 0.04774441799999999, t_terminate = 3018\n",
      "p is 0.16, rate is 0.9958738254898425\n",
      "Time = 0.04607538100000006, t_terminate = 2293\n",
      "p is 0.17, rate is 0.9950486128959476\n",
      "Time = 0.04800417799999992, t_terminate = 2193\n",
      "p is 0.18, rate is 0.994703886779265\n",
      "Time = 0.06985937800000012, t_terminate = 2361\n",
      "p is 0.19, rate is 0.9946506080524599\n",
      "Time = 0.06937944000000007, t_terminate = 2419\n",
      "p is 0.2, rate is 0.9946108290618106\n",
      "Time = 0.06179110399999985, t_terminate = 2167\n",
      "p is 0.21, rate is 0.9945907591220909\n",
      "Time = 0.07104381000000008, t_terminate = 1994\n",
      "p is 0.22, rate is 0.9949303675045521\n",
      "Time = 0.0633627559999999, t_terminate = 2219\n",
      "p is 0.23, rate is 0.9944670205993623\n",
      "Time = 0.024547863, t_terminate = 1955\n",
      "p is 0.24, rate is 0.9946377234175456\n",
      "Time = 0.037202653999999814, t_terminate = 2532\n",
      "p is 0.25, rate is 0.9948023246822131\n",
      "Time = 0.03215619200000004, t_terminate = 2016\n",
      "p is 0.26, rate is 0.9946225272712785\n",
      "Time = 0.030017629, t_terminate = 2515\n",
      "p is 0.27, rate is 0.9946850630848744\n",
      "Time = 0.03223081299999999, t_terminate = 2013\n",
      "p is 0.28, rate is 0.993686092160748\n",
      "Time = 0.030138597999999985, t_terminate = 2045\n",
      "p is 0.29, rate is 0.9939584602259437\n",
      "Time = 0.038521878000000016, t_terminate = 2091\n",
      "p is 0.3, rate is 0.9951033222908569\n",
      "Time = 0.04473939099999994, t_terminate = 2348\n",
      "p is 0.31, rate is 0.9937794834294026\n",
      "Time = 0.03154906, t_terminate = 1992\n",
      "p is 0.32, rate is 0.993969453379969\n",
      "Time = 0.030988732000000015, t_terminate = 1962\n",
      "p is 0.33, rate is 0.9940006969767532\n",
      "Time = 0.04099766800000001, t_terminate = 2315\n",
      "p is 0.34, rate is 0.993725629733256\n",
      "Time = 0.03311250100000001, t_terminate = 2015\n",
      "p is 0.35, rate is 0.9950837210643689\n",
      "Time = 0.03547754300000003, t_terminate = 2269\n",
      "p is 0.36, rate is 0.9939073948078033\n",
      "Time = 0.03295889400000001, t_terminate = 2062\n",
      "p is 0.37, rate is 0.9937426418622693\n",
      "Time = 0.04042769499999993, t_terminate = 2126\n",
      "p is 0.38, rate is 0.9938334627648707\n",
      "Time = 0.03368338499999999, t_terminate = 2062\n",
      "p is 0.39, rate is 0.994144164608026\n",
      "Time = 0.06613710400000004, t_terminate = 2115\n",
      "p is 0.4, rate is 0.9930121806839085\n",
      "Time = 0.03572839300000005, t_terminate = 1883\n",
      "p is 0.41, rate is 0.9935643028976217\n",
      "Time = 0.06918171599999992, t_terminate = 2129\n",
      "p is 0.42, rate is 0.9929881543346565\n",
      "Time = 0.19694362699999998, t_terminate = 2034\n",
      "p is 0.43, rate is 0.9930328414429812\n",
      "Time = 0.050662757999999954, t_terminate = 1953\n",
      "p is 0.44, rate is 0.9930031180109375\n",
      "Time = 0.05709020900000009, t_terminate = 1933\n",
      "p is 0.45, rate is 0.9933160298654473\n",
      "Time = 0.03517944599999994, t_terminate = 1880\n",
      "p is 0.46, rate is 0.9929294415986879\n",
      "Time = 0.03912353300000001, t_terminate = 2041\n",
      "p is 0.47, rate is 0.9929080426722633\n",
      "Time = 0.07717612500000015, t_terminate = 2046\n",
      "p is 0.48, rate is 0.9926858648201605\n",
      "Time = 0.08089258200000014, t_terminate = 2076\n",
      "p is 0.49, rate is 0.9929695822986231\n",
      "Time = 0.06979635099999999, t_terminate = 1916\n",
      "p is 0.5, rate is 0.9931361532204085\n",
      "Time = 0.07400695199999999, t_terminate = 2042\n",
      "p is 0.51, rate is 0.992529434766692\n",
      "Time = 0.08503711899999997, t_terminate = 1938\n",
      "p is 0.52, rate is 0.9931505335764576\n",
      "Time = 0.11207044199999994, t_terminate = 2158\n",
      "p is 0.53, rate is 0.9929837798848024\n",
      "Time = 0.06315561499999996, t_terminate = 1892\n",
      "p is 0.54, rate is 0.9924157752959315\n",
      "Time = 0.10118042000000002, t_terminate = 1955\n",
      "p is 0.55, rate is 0.992339091946525\n",
      "Time = 0.10043860799999989, t_terminate = 2001\n",
      "p is 0.56, rate is 0.9927424825510501\n",
      "Time = 0.08503431000000004, t_terminate = 1902\n",
      "p is 0.57, rate is 0.9921848841551565\n",
      "Time = 0.11192441500000003, t_terminate = 2028\n",
      "p is 0.58, rate is 0.9923047771440672\n",
      "Time = 0.089468675, t_terminate = 2013\n",
      "p is 0.59, rate is 0.9922670057891905\n",
      "Time = 0.09789347900000003, t_terminate = 1914\n",
      "p is 0.6, rate is 0.9922676989322525\n",
      "Time = 0.07104306100000009, t_terminate = 1882\n",
      "p is 0.61, rate is 0.9918871647492615\n",
      "Time = 0.2373857140000003, t_terminate = 2002\n",
      "p is 0.62, rate is 0.992587405124074\n",
      "Time = 0.09470194799999986, t_terminate = 2087\n",
      "p is 0.63, rate is 0.9918892869567509\n",
      "Time = 0.07890785799999983, t_terminate = 1835\n",
      "p is 0.64, rate is 0.9927557225190461\n",
      "Time = 0.096036707, t_terminate = 2017\n",
      "p is 0.65, rate is 0.9920971849196717\n",
      "Time = 0.059133444000000014, t_terminate = 1807\n",
      "p is 0.66, rate is 0.9921278603958392\n",
      "Time = 0.102956703, t_terminate = 2069\n",
      "p is 0.67, rate is 0.9918104705965408\n",
      "Time = 0.0917750889999999, t_terminate = 2011\n",
      "p is 0.68, rate is 0.9919970755666788\n",
      "Time = 0.09333481000000014, t_terminate = 1940\n",
      "p is 0.69, rate is 0.9919763238732345\n",
      "Time = 0.048863921, t_terminate = 1949\n",
      "p is 0.7, rate is 0.9925357973125397\n",
      "Time = 0.049658284000000025, t_terminate = 2046\n",
      "p is 0.71, rate is 0.9921835496426559\n",
      "Time = 0.04430357600000005, t_terminate = 1987\n",
      "p is 0.72, rate is 0.991944948717086\n",
      "Time = 0.04456904499999997, t_terminate = 1942\n",
      "p is 0.73, rate is 0.9915884069913392\n",
      "Time = 0.050731799000000015, t_terminate = 2232\n",
      "p is 0.74, rate is 0.9914792056329674\n",
      "Time = 0.053594977, t_terminate = 1931\n",
      "p is 0.75, rate is 0.9919532877519954\n",
      "Time = 0.05158872400000004, t_terminate = 2072\n",
      "p is 0.76, rate is 0.9915104522293624\n",
      "Time = 0.19657693699999979, t_terminate = 1948\n",
      "p is 0.77, rate is 0.9914913602560862\n",
      "Time = 0.04985010899999998, t_terminate = 1884\n",
      "p is 0.78, rate is 0.9920309627259999\n",
      "Time = 0.054423961999999944, t_terminate = 1952\n",
      "p is 0.79, rate is 0.9914487469186929\n",
      "Time = 0.05602607800000001, t_terminate = 2000\n",
      "p is 0.8, rate is 0.9913388298564167\n",
      "Time = 0.06975707200000006, t_terminate = 2032\n",
      "p is 0.81, rate is 0.9914764667285445\n",
      "Time = 0.11407305600000045, t_terminate = 2032\n",
      "p is 0.82, rate is 0.9917506705400461\n",
      "Time = 0.04906858599999993, t_terminate = 1940\n",
      "p is 0.83, rate is 0.9913006348154159\n",
      "Time = 0.06895701999999992, t_terminate = 2050\n",
      "p is 0.84, rate is 0.9914472374514407\n",
      "Time = 0.10449512700000003, t_terminate = 2314\n",
      "p is 0.85, rate is 0.9916497762925878\n",
      "Time = 0.11227391500000009, t_terminate = 2017\n",
      "p is 0.86, rate is 0.991296620825811\n",
      "Time = 0.10228590100000023, t_terminate = 2006\n",
      "p is 0.87, rate is 0.9914767728007071\n",
      "Time = 0.051956231000000026, t_terminate = 2072\n",
      "p is 0.88, rate is 0.9911312985247847\n",
      "Time = 0.10159974499999995, t_terminate = 2115\n",
      "p is 0.89, rate is 0.991136123245536\n",
      "Time = 0.2178785499999999, t_terminate = 1925\n",
      "p is 0.9, rate is 0.9909594753850419\n",
      "Time = 0.07296248100000001, t_terminate = 2022\n",
      "p is 0.91, rate is 0.9911384792052049\n",
      "Time = 0.083147095, t_terminate = 1997\n",
      "p is 0.92, rate is 0.9910875594996366\n",
      "Time = 0.09862633800000009, t_terminate = 2185\n",
      "p is 0.93, rate is 0.9908013027453353\n",
      "Time = 0.09566797999999982, t_terminate = 1910\n",
      "p is 0.94, rate is 0.9910651402386139\n",
      "Time = 0.09644131899999996, t_terminate = 2011\n",
      "p is 0.95, rate is 0.9907548981958106\n",
      "Time = 0.10662115299999993, t_terminate = 1894\n",
      "p is 0.96, rate is 0.9906601667393883\n",
      "Time = 0.08107940899999994, t_terminate = 1984\n",
      "p is 0.97, rate is 0.9905333392167001\n"
     ]
    },
    {
     "name": "stdout",
     "output_type": "stream",
     "text": [
      "Time = 0.11267427799999993, t_terminate = 1990\n",
      "p is 0.98, rate is 0.9904865999240601\n",
      "Time = 0.06181629999999994, t_terminate = 1910\n",
      "p is 0.99, rate is 0.9904318564447405\n",
      "Time = 0.05927805700000002, t_terminate = 1911\n",
      "p is 1.0, rate is 0.98989898989899\n",
      "Time = 0.10202066900000002, t_terminate = 2036\n"
     ]
    }
   ],
   "source": [
    "ps=Float64[]\n",
    "Times=Float64[]\n",
    "\n",
    "Binv = eye(n) # matrix B is one of the 2 parameters of the method\n",
    "\n",
    "B=Cycle(100)\n",
    "A=AfromB(B)\n",
    "for i=1:101\n",
    "    p=(i-1)/100\n",
    "    A = AfromB(Union(ER(n,p), Cycle(n)))\n",
    "    m=size(A,1)\n",
    "    T = 10000*m  \n",
    "    c = 1:n\n",
    "    b = zeros(m)\n",
    "    x_star = ones(n)*sum(c)/n\n",
    "    ρ=rate(A)\n",
    "    push!(ps, 1/(1-ρ))\n",
    "    \n",
    "    x = c # initial iterate\n",
    "    println(\"p is \", p, \", rate is \", ρ)\n",
    "\n",
    "    # Now we solve the problem\n",
    "    time, t_terminate = RandomKaczmarzSolveWithAccuracy(x, A, b, T, skip, x_star)\n",
    "    push!(Times, time)\n",
    "end"
   ]
  },
  {
   "cell_type": "code",
   "execution_count": 13,
   "metadata": {},
   "outputs": [
    {
     "data": {
      "text/plain": [
       "PlotTimes (generic function with 1 method)"
      ]
     },
     "execution_count": 13,
     "metadata": {},
     "output_type": "execute_result"
    }
   ],
   "source": [
    "using PyPlot\n",
    "function PlotTimes(xs, fv)\n",
    "    \n",
    "    ax = axes()\n",
    "    plt[:plot](xs, fv, \"-\", linewidth=3.0, label=L\"n=100\")\n",
    "    legend(loc=\"upper right\")\n",
    "    ylabel(\"Time\", fontsize=20)\n",
    "    xlabel(\"p\")\n",
    "    ax[:set_yscale](\"log\")\n",
    "    plt[:show]\n",
    "    \n",
    "end"
   ]
  },
  {
   "cell_type": "code",
   "execution_count": 46,
   "metadata": {},
   "outputs": [
    {
     "data": {
      "image/png": "[encoded data removed]",
      "text/plain": [
       "PyPlot.Figure(PyObject <matplotlib.figure.Figure object at 0x7f18d2482910>)"
      ]
     },
     "metadata": {},
     "output_type": "display_data"
    },
    {
     "data": {
      "text/plain": [
       "PyObject <function show at 0x7f18d2717b90>"
      ]
     },
     "execution_count": 46,
     "metadata": {},
     "output_type": "execute_result"
    }
   ],
   "source": [
    "indices=linspace(1,length(Times),length(Times))\n",
    "PlotTimes(indices, Times)"
   ]
  },
  {
   "cell_type": "code",
   "execution_count": 50,
   "metadata": {},
   "outputs": [
    {
     "data": {
      "image/png": "[encoded data removed]",
      "text/plain": [
       "PyPlot.Figure(PyObject <matplotlib.figure.Figure object at 0x7f18c619d390>)"
      ]
     },
     "metadata": {},
     "output_type": "display_data"
    },
    {
     "data": {
      "text/plain": [
       "PyObject <function show at 0x7f18d2717b90>"
      ]
     },
     "execution_count": 50,
     "metadata": {},
     "output_type": "execute_result"
    }
   ],
   "source": [
    "indices=linspace(1,length(ps),length(ps))\n",
    "PlotRhos(indices, ps)"
   ]
  },
  {
   "cell_type": "markdown",
   "metadata": {},
   "source": [
    "Firstly sampling method is optimized to reduce duplicated computations. \n",
    "Based on both $\\rho$ and running time analysis, conclusion is complete graph has the fastest convergence rate. \n",
    "Based on previous analysis we can compute something for complete graph(p=1) and the graph only contains a cycle(p=0). \n",
    "As $\\Vert A \\Vert_F^2 = 2\\vert E \\vert$, $\\frac{1}{1-\\rho}$ is $$\\frac{2\\vert E \\vert}{Lower Bound Of Connectivity}$$\n",
    "\n",
    "As a special case, when $p=1$ which means it's a complete graph $$\\frac{\\vert E(G) \\cap (U\\times W )\\vert}{\\vert U \\vert \\vert W \\vert}=1$$\n",
    "and $\\vert E \\vert=\\mathbf{C}_n^2=O(n^2)$ so in total it's $O(n^2)$\n",
    "But for cycle case, $$\\frac{\\vert E(G) \\cap (U\\times W )\\vert}{\\vert U \\vert \\vert W \\vert}=\\frac{2}{(n/2)^2}$$\n",
    "and $\\vert E \\vert=n$ so in total it's $O(n^3)$, that's why it's slower. "
   ]
  },
  {
   "cell_type": "markdown",
   "metadata": {},
   "source": [
    "### Problem 6.b\n",
    "Consider one special $\\mathbf{A}$ which is a chain(one edge less than a cycle). In theoretical analysis above, it has $$\\frac{2\\vert E \\vert}{Lower Bound Of Connectivity} = \\frac{2*(n-1)}{\\frac{1}{((n-1)/2)^2}}$$\n",
    "which should be a little bit slower than p=0 case in a part because it's bigger in terms of this quantity. "
   ]
  },
  {
   "cell_type": "code",
   "execution_count": 51,
   "metadata": {},
   "outputs": [
    {
     "data": {
      "text/plain": [
       "Chain (generic function with 1 method)"
      ]
     },
     "execution_count": 51,
     "metadata": {},
     "output_type": "execute_result"
    }
   ],
   "source": [
    "function Chain(n)\n",
    "    dv = zeros(n)\n",
    "    ev = ones(n-1)\n",
    "    C =zeros(n,n)\n",
    "    for i=1:n-1\n",
    "        for j=i+1\n",
    "            C[i,j]=1\n",
    "        end\n",
    "    end\n",
    "    #C[1,n]=1\n",
    "    for i=1:n\n",
    "        for j=1:i\n",
    "            C[i,j] = C[j,i]\n",
    "        end\n",
    "    end\n",
    "    return C\n",
    "end"
   ]
  },
  {
   "cell_type": "code",
   "execution_count": 54,
   "metadata": {},
   "outputs": [
    {
     "name": "stdout",
     "output_type": "stream",
     "text": [
      "Time = 6.748147175, t_terminate = 0\n"
     ]
    },
    {
     "data": {
      "text/plain": [
       "(6.748147175, 0)"
      ]
     },
     "execution_count": 54,
     "metadata": {},
     "output_type": "execute_result"
    }
   ],
   "source": [
    "A = Chain(n)\n",
    "m=size(A,1)\n",
    "T = 10000*m  \n",
    "c = 1:n\n",
    "b = zeros(m)\n",
    "x_star = ones(n)*sum(c)/n\n",
    "ρ=rate(A)\n",
    "\n",
    "x = c # initial iterate\n",
    "\n",
    "# Now we solve the problem\n",
    "time_c, t_terminate_c = RandomKaczmarzSolveWithAccuracy(x, A, b, T, skip, x_star)"
   ]
  },
  {
   "cell_type": "markdown",
   "metadata": {},
   "source": [
    "Also, bridged graph can be tested here. We assume p = 1 in this case. The parameter $$\\frac{2\\vert E \\vert}{Lower Bound Of Connectivity} = \\frac{(1/2)*(n/2-1)*(n/2)}{\\frac{1}{((n-1)/2)^2}}=O(n^4)$$ so it's expected to be very slow.  "
   ]
  },
  {
   "cell_type": "code",
   "execution_count": 71,
   "metadata": {},
   "outputs": [
    {
     "data": {
      "text/plain": [
       "Bridge (generic function with 1 method)"
      ]
     },
     "execution_count": 71,
     "metadata": {},
     "output_type": "execute_result"
    }
   ],
   "source": [
    "function Bridge(n, halfn)\n",
    "    p=1\n",
    "    B1 = Union(ER(halfn,p), Cycle(halfn))\n",
    "    B4 = Union(ER(halfn,p), Cycle(halfn))\n",
    "    B3 = zeros(halfn, halfn)\n",
    "    B3[halfn,1] = 1\n",
    "    B2 = B3'\n",
    "    #B3[halfn,1]=1\n",
    "    #B2[1,halfn]=1\n",
    "    _B = [B1 B2;B3 B4];\n",
    "    _A = AfromB(_B)\n",
    "    return _A\n",
    "end"
   ]
  },
  {
   "cell_type": "code",
   "execution_count": 72,
   "metadata": {},
   "outputs": [
    {
     "name": "stdout",
     "output_type": "stream",
     "text": [
      "Time = 18.74524521800026, t_terminate = 1204722\n"
     ]
    },
    {
     "data": {
      "text/plain": [
       "(18.74524521800026, 1204722)"
      ]
     },
     "execution_count": 72,
     "metadata": {},
     "output_type": "execute_result"
    }
   ],
   "source": [
    "n=100\n",
    "halfn=50\n",
    "A = Bridge(n,halfn)\n",
    "m=size(A,1)\n",
    "T = 10000*m  \n",
    "c = 1:n\n",
    "b = zeros(m)\n",
    "x_star = ones(n)*sum(c)/n\n",
    "ρ=rate(A)\n",
    "\n",
    "x = c # initial iterate\n",
    "\n",
    "# Now we solve the problem\n",
    "time_c, t_terminate_c = RandomKaczmarzSolveWithAccuracy(x, A, b, T, skip, x_star)"
   ]
  },
  {
   "cell_type": "markdown",
   "metadata": {},
   "source": [
    "## Problem 7"
   ]
  },
  {
   "cell_type": "code",
   "execution_count": 73,
   "metadata": {},
   "outputs": [
    {
     "data": {
      "text/plain": [
       "RandomKaczmarzSolveWithAccuracyMinibatch (generic function with 1 method)"
      ]
     },
     "execution_count": 73,
     "metadata": {},
     "output_type": "execute_result"
    }
   ],
   "source": [
    "function RandomKaczmarzSolveWithAccuracyMinibatch(x, A, b, T, skip, x_star, tau)\n",
    "    \n",
    "    (m,n) = size(A)\n",
    "    norms_A=zeros(size(A)[1])\n",
    "    #preprocessing\n",
    "    for i=1:size(A)[1]\n",
    "        norms_A[i] = norm(A[i,:]) \n",
    "    end\n",
    "    \n",
    "    w=zeros(size(A)[1])\n",
    "    for i=1:size(A)[1]\n",
    "        w[i]=norms_A[i] \n",
    "    end \n",
    "    xx = zeros(tau)\n",
    "    tic()\n",
    "    time = 0\n",
    "    t_terminate = 0\n",
    "    for t=0:T\n",
    "        tic()\n",
    "        x = @parallel (+) for i=1:tau\n",
    "            coord=Kac_sampling(w)\n",
    "            x - A[coord,:].*(A[coord,:]'*x - b[coord])/(A[coord,:]'*A[coord,:]) \n",
    "        end\n",
    "        x = x/tau\n",
    "        time = time + toq()\n",
    "        if sqrt((x-x_star)'*(x-x_star))[1] < 0.01\n",
    "            t_terminate = t\n",
    "            # println(\"Satisfy criterion at %d iteration\", t_terminate)\n",
    "            break\n",
    "        end\n",
    "    end\n",
    "        \n",
    "    println(\"Time = \", time, \", t_terminate = \", t_terminate)\n",
    "    return time, t_terminate\n",
    "    \n",
    "end"
   ]
  },
  {
   "cell_type": "markdown",
   "metadata": {},
   "source": [
    "### Exp 1: Try on different $\\tau$\n",
    "Let it changes from 1 to 100"
   ]
  },
  {
   "cell_type": "code",
   "execution_count": 75,
   "metadata": {},
   "outputs": [
    {
     "name": "stdout",
     "output_type": "stream",
     "text": [
      "tau is 1\n",
      "Time = 0.18503935999999965, t_terminate = 1926\n",
      "tau is 2\n",
      "Time = 0.22227799699999984, t_terminate = 1388\n",
      "tau is 3\n",
      "Time = 0.2589378639999998, t_terminate = 1197\n",
      "tau is 4\n",
      "Time = 0.33233608299999945, t_terminate = 1179\n",
      "tau is 5\n",
      "Time = 0.3918728350000003, t_terminate = 1126\n",
      "tau is 6\n",
      "Time = 0.5509486870000002, t_terminate = 1123\n",
      "tau is 7\n",
      "Time = 0.4884557859999997, t_terminate = 1087\n",
      "tau is 8\n",
      "Time = 0.5506271790000008, t_terminate = 1086\n",
      "tau is 9\n",
      "Time = 0.6016141399999991, t_terminate = 1073\n",
      "tau is 10\n",
      "Time = 0.6461554619999997, t_terminate = 1032\n",
      "tau is 11\n",
      "Time = 0.7029609729999998, t_terminate = 1042\n",
      "tau is 12\n",
      "Time = 0.8053904339999998, t_terminate = 1047\n",
      "tau is 13\n",
      "Time = 0.904419992999999, t_terminate = 1078\n",
      "tau is 14\n",
      "Time = 0.9479822749999994, t_terminate = 1042\n",
      "tau is 15\n",
      "Time = 1.01789079, t_terminate = 1057\n",
      "tau is 16\n",
      "Time = 1.0370760169999997, t_terminate = 1042\n",
      "tau is 17\n",
      "Time = 1.223870031, t_terminate = 1050\n",
      "tau is 18\n",
      "Time = 1.158810955999999, t_terminate = 1033\n",
      "tau is 19\n",
      "Time = 1.190287, t_terminate = 1021\n",
      "tau is 20\n",
      "Time = 1.2287648309999974, t_terminate = 1031\n",
      "tau is 21\n",
      "Time = 1.3592855790000018, t_terminate = 1050\n",
      "tau is 22\n",
      "Time = 1.3571466980000007, t_terminate = 1051\n",
      "tau is 23\n",
      "Time = 1.4529427830000003, t_terminate = 1042\n",
      "tau is 24\n",
      "Time = 1.4533644519999998, t_terminate = 1016\n",
      "tau is 25\n",
      "Time = 1.5549477880000007, t_terminate = 1039\n",
      "tau is 26\n",
      "Time = 1.5757272690000008, t_terminate = 1027\n",
      "tau is 27\n",
      "Time = 1.7080395179999996, t_terminate = 1032\n",
      "tau is 28\n",
      "Time = 1.8055634330000008, t_terminate = 1043\n",
      "tau is 29\n",
      "Time = 1.775782974999999, t_terminate = 1022\n",
      "tau is 30\n",
      "Time = 1.844379904000002, t_terminate = 1029\n",
      "tau is 31\n",
      "Time = 1.8285881749999995, t_terminate = 1023\n",
      "tau is 32\n",
      "Time = 1.9994699989999989, t_terminate = 1027\n",
      "tau is 33\n",
      "Time = 1.9782982410000032, t_terminate = 1033\n",
      "tau is 34\n",
      "Time = 2.0899403249999966, t_terminate = 1033\n",
      "tau is 35\n",
      "Time = 2.219525654, t_terminate = 1029\n",
      "tau is 36\n",
      "Time = 2.1730375150000003, t_terminate = 1032\n",
      "tau is 37\n",
      "Time = 2.244724925000005, t_terminate = 1027\n",
      "tau is 38\n",
      "Time = 2.319212756, t_terminate = 1023\n",
      "tau is 39\n",
      "Time = 2.408797971, t_terminate = 1023\n",
      "tau is 40\n",
      "Time = 2.4387801820000043, t_terminate = 1023\n",
      "tau is 41\n",
      "Time = 2.521665534000007, t_terminate = 1026\n",
      "tau is 42\n",
      "Time = 2.526054873000002, t_terminate = 1022\n",
      "tau is 43\n",
      "Time = 2.4874958089999977, t_terminate = 1007\n",
      "tau is 44\n",
      "Time = 2.637025935999996, t_terminate = 1026\n",
      "tau is 45\n",
      "Time = 2.720145230000001, t_terminate = 1021\n",
      "tau is 46\n",
      "Time = 2.772241119999999, t_terminate = 1024\n",
      "tau is 47\n",
      "Time = 2.9384094900000024, t_terminate = 1028\n",
      "tau is 48\n",
      "Time = 2.881363813999998, t_terminate = 1023\n",
      "tau is 49\n",
      "Time = 3.007015176000002, t_terminate = 1019\n",
      "tau is 50\n",
      "Time = 3.1016866769999996, t_terminate = 1021\n",
      "tau is 51\n",
      "Time = 3.100536299000003, t_terminate = 1027\n",
      "tau is 52\n",
      "Time = 3.1500751180000033, t_terminate = 1020\n",
      "tau is 53\n",
      "Time = 3.1865057900000027, t_terminate = 1022\n",
      "tau is 54\n",
      "Time = 3.183063824000001, t_terminate = 1019\n",
      "tau is 55\n",
      "Time = 3.305611281999997, t_terminate = 1017\n",
      "tau is 56\n",
      "Time = 3.2898132600000007, t_terminate = 1017\n",
      "tau is 57\n",
      "Time = 3.4497529739999973, t_terminate = 1029\n",
      "tau is 58\n",
      "Time = 3.5275181979999974, t_terminate = 1016\n",
      "tau is 59\n",
      "Time = 3.4660135490000004, t_terminate = 1013\n",
      "tau is 60\n",
      "Time = 3.7066694730000007, t_terminate = 1023\n",
      "tau is 61\n",
      "Time = 3.808542842999999, t_terminate = 1020\n",
      "tau is 62\n",
      "Time = 3.670862899000003, t_terminate = 1018\n",
      "tau is 63\n",
      "Time = 3.755388871000001, t_terminate = 1022\n",
      "tau is 64\n",
      "Time = 3.8900176319999953, t_terminate = 1023\n",
      "tau is 65\n",
      "Time = 3.7511408579999985, t_terminate = 1008\n",
      "tau is 66\n",
      "Time = 3.8175280730000054, t_terminate = 1014\n",
      "tau is 67\n",
      "Time = 3.9091053719999995, t_terminate = 1018\n",
      "tau is 68\n",
      "Time = 4.0987185450000005, t_terminate = 1018\n",
      "tau is 69\n",
      "Time = 4.141187151999997, t_terminate = 1019\n",
      "tau is 70\n",
      "Time = 4.193968683000003, t_terminate = 1015\n",
      "tau is 71\n",
      "Time = 4.268446787999995, t_terminate = 1023\n",
      "tau is 72\n",
      "Time = 4.430822262000002, t_terminate = 1015\n",
      "tau is 73\n",
      "Time = 4.261540689999993, t_terminate = 1019\n",
      "tau is 74\n",
      "Time = 4.346873632999994, t_terminate = 1020\n",
      "tau is 75\n",
      "Time = 4.455562046000005, t_terminate = 1021\n",
      "tau is 76\n",
      "Time = 4.565967764000007, t_terminate = 1017\n",
      "tau is 77\n",
      "Time = 4.563089541, t_terminate = 1022\n",
      "tau is 78\n",
      "Time = 4.660832967999992, t_terminate = 1015\n",
      "tau is 79\n",
      "Time = 4.620290381999999, t_terminate = 1018\n",
      "tau is 80\n",
      "Time = 4.777645569999997, t_terminate = 1021\n",
      "tau is 81\n",
      "Time = 4.650002392000001, t_terminate = 1021\n",
      "tau is 82\n",
      "Time = 4.733364532, t_terminate = 1018\n",
      "tau is 83\n",
      "Time = 4.970421826999996, t_terminate = 1013\n",
      "tau is 84\n",
      "Time = 4.792832974000004, t_terminate = 1022\n",
      "tau is 85\n",
      "Time = 4.943826218000007, t_terminate = 1019\n",
      "tau is 86\n",
      "Time = 4.949098573999997, t_terminate = 1018\n",
      "tau is 87\n",
      "Time = 5.103805591999996, t_terminate = 1013\n",
      "tau is 88\n",
      "Time = 5.213944103999991, t_terminate = 1025\n",
      "tau is 89\n",
      "Time = 5.171597098999994, t_terminate = 1014\n",
      "tau is 90\n",
      "Time = 5.249600152000007, t_terminate = 1021\n",
      "tau is 91\n",
      "Time = 5.333797443000009, t_terminate = 1007\n",
      "tau is 92\n",
      "Time = 5.194485244999994, t_terminate = 1011\n",
      "tau is 93\n",
      "Time = 5.440265081000011, t_terminate = 1019\n",
      "tau is 94\n",
      "Time = 5.572898369999998, t_terminate = 1017\n",
      "tau is 95\n",
      "Time = 5.428554024000001, t_terminate = 1012\n",
      "tau is 96\n",
      "Time = 5.517468350999998, t_terminate = 1018\n",
      "tau is 97\n",
      "Time = 5.712725490000004, t_terminate = 1020\n",
      "tau is 98\n",
      "Time = 5.750597751999999, t_terminate = 1012\n",
      "tau is 99\n",
      "Time = 5.624409567000004, t_terminate = 1014\n",
      "tau is 100\n",
      "Time = 5.735519905000009, t_terminate = 1019\n"
     ]
    }
   ],
   "source": [
    "Times=Float64[]\n",
    "\n",
    "Binv = eye(n) # matrix B is one of the 2 parameters of the method\n",
    "n=100\n",
    "B=Cycle(100)\n",
    "A=AfromB(B)\n",
    "p=1\n",
    "for tau=1:100\n",
    "    A = AfromB(Union(ER(n,p), Cycle(n)))\n",
    "    m=size(A,1)\n",
    "    T = 10000*m  \n",
    "    c = 1:n\n",
    "    b = zeros(m)\n",
    "    x_star = ones(n)*sum(c)/n\n",
    "    \n",
    "    x = c # initial iterate\n",
    "    println(\"tau is \", tau)\n",
    "\n",
    "    # Now we solve the problem\n",
    "    time, t_terminate = RandomKaczmarzSolveWithAccuracyMinibatch(x, A, b, T, skip, x_star, tau)\n",
    "    push!(Times, time)\n",
    "end"
   ]
  },
  {
   "cell_type": "code",
   "execution_count": 77,
   "metadata": {},
   "outputs": [
    {
     "data": {
      "image/png": "[encoded data removed]",
      "text/plain": [
       "PyPlot.Figure(PyObject <matplotlib.figure.Figure object at 0x7f18c6235e50>)"
      ]
     },
     "metadata": {},
     "output_type": "display_data"
    },
    {
     "data": {
      "text/plain": [
       "PyObject <function show at 0x7f18d2717b90>"
      ]
     },
     "execution_count": 77,
     "metadata": {},
     "output_type": "execute_result"
    }
   ],
   "source": [
    "for tau = 1:100\n",
    "    Times[tau]=Times[tau]/tau\n",
    "end\n",
    "indices=linspace(1,length(Times),length(Times))\n",
    "PlotTimes(indices, Times)"
   ]
  },
  {
   "cell_type": "markdown",
   "metadata": {},
   "source": [
    "From the graph we can see average running time is decreasing with parallelism parameter $\\tau$ and it reaches a steady small value when $\\tau$ is about 40. That means this algorithm can't be accelerated unlimitedly and will reach some limit rather because of the computational limit or the problem formulation itself. "
   ]
  },
  {
   "cell_type": "markdown",
   "metadata": {},
   "source": [
    "### Exp 2: Study convergence rate for best stepsize with different tau\n",
    "First generate A matrix with pre-computed $\\lambda_{min}^+$ and $\\lambda_{max}$. "
   ]
  },
  {
   "cell_type": "code",
   "execution_count": 9,
   "metadata": {
    "collapsed": true
   },
   "outputs": [
    {
     "data": {
      "text/plain": [
       "100.00000000000018"
      ]
     },
     "execution_count": 9,
     "metadata": {},
     "output_type": "execute_result"
    }
   ],
   "source": [
    "n=100\n",
    "A = AfromB(Union(ER(n,1), Cycle(n)))\n",
    "m=size(A,1)\n",
    "T = 1000*m  \n",
    "c = 1:n\n",
    "b = zeros(m)\n",
    "x_star = ones(n)*sum(c)/n\n",
    "\n",
    "x = c # initial iterate\n",
    "\n",
    "eigvals_ATA = sort(eigvals(A'*A), rev=true)\n",
    "λ_min=0\n",
    "for i=size(eigvals_ATA,1):-1:1\n",
    "    if i==1 || eigvals_ATA[i]>0.0001\n",
    "        λ_min = eigvals_ATA[i]\n",
    "        break\n",
    "    end\n",
    "end\n",
    "λ_max = eigvals_ATA[1]"
   ]
  },
  {
   "cell_type": "code",
   "execution_count": 10,
   "metadata": {},
   "outputs": [
    {
     "data": {
      "text/plain": [
       "RandomKaczmarzSolveWithAccuracyMinibatchWithStepSize (generic function with 1 method)"
      ]
     },
     "execution_count": 10,
     "metadata": {},
     "output_type": "execute_result"
    }
   ],
   "source": [
    "function RandomKaczmarzSolveWithAccuracyMinibatchWithStepSize(x, A, b, T, skip, x_star, tau, omega)\n",
    "    \n",
    "    (m,n) = size(A)\n",
    "    norms_A=zeros(size(A)[1])\n",
    "    #preprocessing\n",
    "    for i=1:size(A)[1]\n",
    "        norms_A[i] = norm(A[i,:]) \n",
    "    end\n",
    "    \n",
    "    w=zeros(size(A)[1])\n",
    "    for i=1:size(A)[1]\n",
    "        w[i]=norms_A[i] \n",
    "    end \n",
    "    tic()\n",
    "    time = 0\n",
    "    t_terminate = 0\n",
    "    for t=0:T\n",
    "        tic()\n",
    "        x = @parallel (+) for i=1:tau\n",
    "            coord=Kac_sampling(w)\n",
    "            x - omega*(A[coord,:].*(A[coord,:]'*x - b[coord])/(A[coord,:]'*A[coord,:]))\n",
    "        end\n",
    "        x = x/tau\n",
    "        time = time + toq()\n",
    "        if sqrt((x-x_star)'*(x-x_star))[1] < 0.01\n",
    "            t_terminate = t\n",
    "            # println(\"Satisfy criterion at %d iteration\", t_terminate)\n",
    "            break\n",
    "        end\n",
    "    end\n",
    "        \n",
    "    println(\"Time = \", time, \", t_terminate = \", t_terminate)\n",
    "    return time, t_terminate\n",
    "    \n",
    "end"
   ]
  },
  {
   "cell_type": "code",
   "execution_count": 11,
   "metadata": {
    "collapsed": true
   },
   "outputs": [
    {
     "name": "stdout",
     "output_type": "stream",
     "text": [
      "Time = 0.8856661199999983, t_terminate = 2005\n",
      "Time = 7.5547228620000055, t_terminate = 51456\n",
      "Time = 13.921971941000109, t_terminate = 68264\n",
      "Time = 20.126208636999955, t_terminate = 76586\n",
      "Time = 26.685201782999858, t_terminate = 81511\n",
      "Time = 32.34139832400006, t_terminate = 85054\n",
      "Time = 38.16529512400034, t_terminate = 87345\n"
     ]
    },
    {
     "ename": "LoadError",
     "evalue": "\u001b[91m\u001b[91mInterruptException:\u001b[39m\nArray{Float64,N} where N(::Tuple{Int64}) at ./boot.jl:317\nbroadcast_t(::Function, ::Type{T} where T, ::Tuple{Base.OneTo{Int64}}, ::CartesianRange{CartesianIndex{1}}, ::Array{Float64,1}, ::Float64) at ./broadcast.jl:266\nbroadcast_c at ./broadcast.jl:314 [inlined]\nbroadcast(::Function, ::Array{Float64,1}, ::Float64) at ./broadcast.jl:434\n(::##5#6{Array{Float64,2},Array{Float64,1},Float64})(::Base.#+, ::UnitRange{Int64}, ::Int64, ::Int64) at ./distributed/macros.jl:162\n(::Base.Distributed.##135#136{##5#6{Array{Float64,2},Array{Float64,1},Float64},Tuple{Base.#+,UnitRange{Int64},Int64,Int64},Array{Any,1}})() at ./distributed/remotecall.jl:314\nrun_work_thunk(::Base.Distributed.##135#136{##5#6{Array{Float64,2},Array{Float64,1},Float64},Tuple{Base.#+,UnitRange{Int64},Int64,Int64},Array{Any,1}}, ::Bool) at ./distributed/process_messages.jl:56\n#remotecall_fetch#140(::Array{Any,1}, ::Function, ::Function, ::Base.Distributed.LocalProcess, ::Function, ::Vararg{Any,N} where N) at ./distributed/remotecall.jl:339\nremotecall_fetch(::Function, ::Base.Distributed.LocalProcess, ::Function, ::Vararg{Any,N} where N) at ./distributed/remotecall.jl:339\n#remotecall_fetch#144(::Array{Any,1}, ::Function, ::Function, ::Int64, ::Function, ::Vararg{Any,N} where N) at ./distributed/remotecall.jl:367\nremotecall_fetch(::Function, ::Int64, ::Function, ::Vararg{Any,N} where N) at ./distributed/remotecall.jl:367\n(::Base.Distributed.##155#156{Base.#+,##5#6{Array{Float64,2},Array{Float64,1},Float64},UnitRange{Int64},Array{UnitRange{Int64},1}})() at ./distributed/macros.jl:144\u001b[39m",
     "output_type": "error",
     "traceback": [
      "\u001b[91m\u001b[91mInterruptException:\u001b[39m\nArray{Float64,N} where N(::Tuple{Int64}) at ./boot.jl:317\nbroadcast_t(::Function, ::Type{T} where T, ::Tuple{Base.OneTo{Int64}}, ::CartesianRange{CartesianIndex{1}}, ::Array{Float64,1}, ::Float64) at ./broadcast.jl:266\nbroadcast_c at ./broadcast.jl:314 [inlined]\nbroadcast(::Function, ::Array{Float64,1}, ::Float64) at ./broadcast.jl:434\n(::##5#6{Array{Float64,2},Array{Float64,1},Float64})(::Base.#+, ::UnitRange{Int64}, ::Int64, ::Int64) at ./distributed/macros.jl:162\n(::Base.Distributed.##135#136{##5#6{Array{Float64,2},Array{Float64,1},Float64},Tuple{Base.#+,UnitRange{Int64},Int64,Int64},Array{Any,1}})() at ./distributed/remotecall.jl:314\nrun_work_thunk(::Base.Distributed.##135#136{##5#6{Array{Float64,2},Array{Float64,1},Float64},Tuple{Base.#+,UnitRange{Int64},Int64,Int64},Array{Any,1}}, ::Bool) at ./distributed/process_messages.jl:56\n#remotecall_fetch#140(::Array{Any,1}, ::Function, ::Function, ::Base.Distributed.LocalProcess, ::Function, ::Vararg{Any,N} where N) at ./distributed/remotecall.jl:339\nremotecall_fetch(::Function, ::Base.Distributed.LocalProcess, ::Function, ::Vararg{Any,N} where N) at ./distributed/remotecall.jl:339\n#remotecall_fetch#144(::Array{Any,1}, ::Function, ::Function, ::Int64, ::Function, ::Vararg{Any,N} where N) at ./distributed/remotecall.jl:367\nremotecall_fetch(::Function, ::Int64, ::Function, ::Vararg{Any,N} where N) at ./distributed/remotecall.jl:367\n(::Base.Distributed.##155#156{Base.#+,##5#6{Array{Float64,2},Array{Float64,1},Float64},UnitRange{Int64},Array{UnitRange{Int64},1}})() at ./distributed/macros.jl:144\u001b[39m",
      "",
      "Stacktrace:",
      " [1] \u001b[1mtry_yieldto\u001b[22m\u001b[22m\u001b[1m(\u001b[22m\u001b[22m::Base.##296#297{Task}, ::Task\u001b[1m)\u001b[22m\u001b[22m at \u001b[1m./event.jl:189\u001b[22m\u001b[22m",
      " [2] \u001b[1mwait\u001b[22m\u001b[22m\u001b[1m(\u001b[22m\u001b[22m\u001b[1m)\u001b[22m\u001b[22m at \u001b[1m./event.jl:234\u001b[22m\u001b[22m",
      " [3] \u001b[1mwait\u001b[22m\u001b[22m\u001b[1m(\u001b[22m\u001b[22m::Condition\u001b[1m)\u001b[22m\u001b[22m at \u001b[1m./event.jl:27\u001b[22m\u001b[22m",
      " [4] \u001b[1mwait\u001b[22m\u001b[22m\u001b[1m(\u001b[22m\u001b[22m::Task\u001b[1m)\u001b[22m\u001b[22m at \u001b[1m./task.jl:181\u001b[22m\u001b[22m",
      " [5] \u001b[1mcollect\u001b[22m\u001b[22m\u001b[1m(\u001b[22m\u001b[22m::Base.Generator{Array{Task,1},Base.#wait}\u001b[1m)\u001b[22m\u001b[22m at \u001b[1m./array.jl:441\u001b[22m\u001b[22m",
      " [6] \u001b[1mpreduce\u001b[22m\u001b[22m\u001b[1m(\u001b[22m\u001b[22m::Function, ::Function, ::UnitRange{Int64}\u001b[1m)\u001b[22m\u001b[22m at \u001b[1m./distributed/macros.jl:148\u001b[22m\u001b[22m",
      " [7] \u001b[1mRandomKaczmarzSolveWithAccuracyMinibatchWithStepSize\u001b[22m\u001b[22m\u001b[1m(\u001b[22m\u001b[22m::UnitRange{Int64}, ::Array{Float64,2}, ::Array{Float64,1}, ::Int64, ::Function, ::Array{Float64,1}, ::Int64, ::Float64\u001b[1m)\u001b[22m\u001b[22m at \u001b[1m./In[10]:19\u001b[22m\u001b[22m",
      " [8] \u001b[1mmacro expansion\u001b[22m\u001b[22m at \u001b[1m./In[11]:12\u001b[22m\u001b[22m [inlined]",
      " [9] \u001b[1manonymous\u001b[22m\u001b[22m at \u001b[1m./<missing>:?\u001b[22m\u001b[22m",
      " [10] \u001b[1minclude_string\u001b[22m\u001b[22m\u001b[1m(\u001b[22m\u001b[22m::String, ::String\u001b[1m)\u001b[22m\u001b[22m at \u001b[1m./loading.jl:515\u001b[22m\u001b[22m"
     ]
    }
   ],
   "source": [
    "ρ=rate(A)\n",
    "c = 1:n\n",
    "b = zeros(m)\n",
    "x_star = ones(n)*sum(c)/n\n",
    "x = c # initial iterate\n",
    "Times=Float64[]\n",
    "ConvergenceFactor=Float64[]\n",
    "for tau=1:10\n",
    "    # Now we solve the problem\n",
    "    w = 1/(1/tau+(1-1/tau)*λ_max)\n",
    "    cf = 1-λ_min/(1/w)\n",
    "    time, t_terminate = RandomKaczmarzSolveWithAccuracyMinibatchWithStepSize(x, A, b, T, skip, x_star, tau, w)\n",
    "    push!(Times, time)\n",
    "    push!(ConvergenceFactor, cf)\n",
    "end"
   ]
  },
  {
   "cell_type": "code",
   "execution_count": 14,
   "metadata": {},
   "outputs": [
    {
     "data": {
      "image/png": "[encoded data removed]",
      "text/plain": [
       "PyPlot.Figure(PyObject <matplotlib.figure.Figure object at 0x7f6e57942390>)"
      ]
     },
     "metadata": {},
     "output_type": "display_data"
    },
    {
     "data": {
      "text/plain": [
       "PyObject <function show at 0x7f6e57bd7b90>"
      ]
     },
     "execution_count": 14,
     "metadata": {},
     "output_type": "execute_result"
    }
   ],
   "source": [
    "for tau = 1:7\n",
    "    Times[tau]=Times[tau]/tau\n",
    "end\n",
    "indices=linspace(1,length(Times[1:7]),length(Times[1:7]))\n",
    "PlotTimes(indices, Times[1:7])"
   ]
  },
  {
   "cell_type": "markdown",
   "metadata": {},
   "source": [
    "We can see that average time/rate of convergence under the best stepsize of $\\tau$ first increase and then decrease as $\\tau$ increases because they're computed differently for $\\tau=1$ and $\\tau$ is bigger. "
   ]
  },
  {
   "cell_type": "markdown",
   "metadata": {},
   "source": [
    "### Exp 3: Study convergence for optimal stepsize and stepsize=1"
   ]
  }
 ],
 "metadata": {
  "kernelspec": {
   "display_name": "Julia 0.6.0",
   "language": "julia",
   "name": "julia-0.6"
  },
  "language_info": {
   "file_extension": ".jl",
   "mimetype": "application/julia",
   "name": "julia",
   "version": "0.6.0"
  }
 },
 "nbformat": 4,
 "nbformat_minor": 2
}
